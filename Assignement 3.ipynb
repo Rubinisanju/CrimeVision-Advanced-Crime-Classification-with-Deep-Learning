{
  "nbformat": 4,
  "nbformat_minor": 0,
  "metadata": {
    "colab": {
      "provenance": []
    },
    "kernelspec": {
      "name": "python3",
      "display_name": "Python 3"
    },
    "language_info": {
      "name": "python"
    }
  },
  "cells": [
    {
      "cell_type": "code",
      "execution_count": 8,
      "metadata": {
        "id": "7MbwplpceGq_"
      },
      "outputs": [],
      "source": [
        "import itertools\n",
        "import zipfile\n",
        "import torch\n",
        "import torch.nn as nn\n",
        "import torch.nn.functional as F\n",
        "from torch.utils.data import DataLoader\n",
        "from torchvision.datasets import ImageFolder\n",
        "from torchvision.transforms import transforms\n",
        "from sklearn.metrics import classification_report"
      ]
    },
    {
      "cell_type": "code",
      "source": [
        "os.environ['KAGGLE_CONFIG_DIR'] = '/content'\n",
        "!kaggle datasets download -d iamsouravbanerjee/animal-image-dataset-90-different-animals"
      ],
      "metadata": {
        "colab": {
          "base_uri": "https://localhost:8080/"
        },
        "id": "v8YwAJU8ezsm",
        "outputId": "82becd6b-57a1-4bb0-9a9a-4ad006ed24d8"
      },
      "execution_count": 2,
      "outputs": [
        {
          "output_type": "stream",
          "name": "stdout",
          "text": [
            "Warning: Your Kaggle API key is readable by other users on this system! To fix this, you can run 'chmod 600 /content/kaggle.json'\n",
            "Downloading animal-image-dataset-90-different-animals.zip to /content\n",
            " 97% 634M/656M [00:07<00:00, 71.4MB/s]\n",
            "100% 656M/656M [00:07<00:00, 93.0MB/s]\n"
          ]
        }
      ]
    },
    {
      "cell_type": "code",
      "source": [],
      "metadata": {
        "id": "X_3Aj_j7f2Tv"
      },
      "execution_count": null,
      "outputs": []
    },
    {
      "cell_type": "code",
      "source": [
        "with zipfile.ZipFile('/content/animal-image-dataset-90-different-animals.zip', 'r') as zip_ref:\n",
        "    zip_ref.extractall('/content')"
      ],
      "metadata": {
        "id": "qvRZ9VUFf2XK"
      },
      "execution_count": 5,
      "outputs": []
    },
    {
      "cell_type": "code",
      "source": [
        "transform = transforms.Compose([\n",
        "    transforms.RandomRotation(10),\n",
        "    transforms.RandomHorizontalFlip(),\n",
        "    transforms.Resize(224),\n",
        "    transforms.CenterCrop(224),\n",
        "    transforms.ToTensor(),\n",
        "    transforms.Normalize([0.485, 0.456, 0.406], [0.229, 0.224, 0.225])\n",
        "])\n"
      ],
      "metadata": {
        "id": "0KoNxpGlgVi-"
      },
      "execution_count": 9,
      "outputs": []
    },
    {
      "cell_type": "code",
      "source": [
        "dataset = ImageFolder(root=\"/content/animals/animals\", transform=transform)\n",
        "class_names = dataset.classes"
      ],
      "metadata": {
        "id": "PkXCtXtkg1kn"
      },
      "execution_count": 15,
      "outputs": []
    },
    {
      "cell_type": "code",
      "source": [
        "train_size = int(0.8 * len(dataset))\n",
        "train_size = int(0.8 * len(dataset))\n",
        "test_size = len(dataset) - train_size\n",
        "train_dataset, test_dataset = torch.utils.data.random_split(dataset, [train_size, test_size])"
      ],
      "metadata": {
        "id": "NGQY6R5EhBft"
      },
      "execution_count": 16,
      "outputs": []
    },
    {
      "cell_type": "code",
      "source": [
        "class ConvolutionalNetwork(nn.Module):\n",
        "    def __init__(self):\n",
        "        super(ConvolutionalNetwork, self).__init__()\n",
        "        self.conv1 = nn.Conv2d(3, 6, 3, 1)\n",
        "        self.pool = nn.MaxPool2d(2, 2)\n",
        "        self.conv2 = nn.Conv2d(6, 16, 3, 1)\n",
        "        self.fc1 = nn.Linear(16 * 54 * 54, 120)\n",
        "        self.fc2 = nn.Linear(120, 84)\n",
        "        self.fc3 = nn.Linear(84, len(class_names))\n",
        "\n",
        "    def forward(self, x):\n",
        "        x = self.pool(F.relu(self.conv1(x)))\n",
        "        x = self.pool(F.relu(self.conv2(x)))\n",
        "        x = x.view(-1, 16 * 54 * 54)\n",
        "        x = F.relu(self.fc1(x))\n",
        "        x = F.relu(self.fc2(x))\n",
        "        x = self.fc3(x)\n",
        "        return x\n"
      ],
      "metadata": {
        "id": "WTOGENbChNd1"
      },
      "execution_count": 17,
      "outputs": []
    },
    {
      "cell_type": "code",
      "source": [
        "model = ConvolutionalNetwork()"
      ],
      "metadata": {
        "id": "-VFrDMxvhWej"
      },
      "execution_count": 18,
      "outputs": []
    },
    {
      "cell_type": "code",
      "source": [
        "device = torch.device(\"cuda\" if torch.cuda.is_available() else \"cpu\")\n",
        "model.to(device)\n",
        "model.eval()\n",
        "\n",
        "test_loader = DataLoader(test_dataset, batch_size=32, shuffle=False)\n",
        "\n",
        "y_true = []\n",
        "y_pred = []\n",
        "\n",
        "with torch.no_grad():\n",
        "    for images, labels in test_loader:\n",
        "        images = images.to(device)\n",
        "        labels = labels.to(device)\n",
        "\n",
        "        outputs = model(images)\n",
        "        _, predicted = torch.max(outputs.data, 1)\n",
        "\n",
        "        y_true.extend(labels.cpu().numpy())\n",
        "        y_pred.extend(predicted.cpu().numpy())\n"
      ],
      "metadata": {
        "id": "q69r9tcEiij_"
      },
      "execution_count": 19,
      "outputs": []
    },
    {
      "cell_type": "code",
      "source": [
        "print(classification_report(y_true, y_pred, target_names=class_names))"
      ],
      "metadata": {
        "colab": {
          "base_uri": "https://localhost:8080/"
        },
        "id": "8b6lybFci0o3",
        "outputId": "3df32878-d0f4-4d2b-ced1-3afd37b51f9d"
      },
      "execution_count": 20,
      "outputs": [
        {
          "output_type": "stream",
          "name": "stdout",
          "text": [
            "                precision    recall  f1-score   support\n",
            "\n",
            "      antelope       0.00      0.00      0.00        13\n",
            "        badger       0.00      0.00      0.00        15\n",
            "           bat       0.00      0.00      0.00        11\n",
            "          bear       0.00      0.00      0.00        11\n",
            "           bee       0.00      0.00      0.00        13\n",
            "        beetle       0.00      0.00      0.00        13\n",
            "         bison       0.00      0.00      0.00         9\n",
            "          boar       0.00      0.00      0.00        15\n",
            "     butterfly       0.00      0.00      0.00         6\n",
            "           cat       0.00      0.00      0.00        13\n",
            "   caterpillar       0.00      0.00      0.00        12\n",
            "    chimpanzee       0.00      0.00      0.00        20\n",
            "     cockroach       0.00      0.00      0.00        11\n",
            "           cow       0.01      0.43      0.02         7\n",
            "        coyote       0.00      0.00      0.00        17\n",
            "          crab       0.00      0.00      0.00        13\n",
            "          crow       0.00      0.00      0.00         7\n",
            "          deer       0.00      0.00      0.00        10\n",
            "           dog       0.00      0.00      0.00        13\n",
            "       dolphin       0.00      0.00      0.00        13\n",
            "        donkey       0.00      0.00      0.00        10\n",
            "     dragonfly       0.00      0.00      0.00        10\n",
            "          duck       0.00      0.00      0.00        11\n",
            "         eagle       0.00      0.00      0.00        14\n",
            "      elephant       0.00      0.00      0.00        10\n",
            "      flamingo       0.00      0.00      0.00         9\n",
            "           fly       0.00      0.00      0.00        11\n",
            "           fox       0.00      0.00      0.00        13\n",
            "          goat       0.00      0.00      0.00        10\n",
            "      goldfish       0.00      0.00      0.00        15\n",
            "         goose       0.00      0.00      0.00        15\n",
            "       gorilla       0.00      0.00      0.00        14\n",
            "   grasshopper       0.00      0.00      0.00        13\n",
            "       hamster       0.00      0.00      0.00         7\n",
            "          hare       0.00      0.00      0.00         6\n",
            "      hedgehog       0.00      0.00      0.00         9\n",
            "  hippopotamus       0.00      0.00      0.00        14\n",
            "      hornbill       0.00      0.00      0.00        14\n",
            "         horse       0.00      0.00      0.00        16\n",
            "   hummingbird       0.00      0.00      0.00        16\n",
            "         hyena       0.00      0.00      0.00         9\n",
            "     jellyfish       0.00      0.00      0.00        16\n",
            "      kangaroo       0.00      0.00      0.00        12\n",
            "         koala       0.00      0.00      0.00        15\n",
            "      ladybugs       0.00      0.00      0.00         4\n",
            "       leopard       0.00      0.00      0.00        11\n",
            "          lion       0.00      0.00      0.00        15\n",
            "        lizard       0.00      0.00      0.00        12\n",
            "       lobster       0.00      0.00      0.00        10\n",
            "      mosquito       0.00      0.00      0.00         9\n",
            "          moth       0.00      0.00      0.00        13\n",
            "         mouse       0.00      0.00      0.00        13\n",
            "       octopus       0.00      0.00      0.00        10\n",
            "         okapi       0.01      0.71      0.03        14\n",
            "     orangutan       0.00      0.00      0.00         8\n",
            "         otter       0.00      0.00      0.00        10\n",
            "           owl       0.00      0.00      0.00        10\n",
            "            ox       0.00      0.00      0.00        14\n",
            "        oyster       0.00      0.00      0.00        11\n",
            "         panda       0.00      0.00      0.00        17\n",
            "        parrot       0.00      0.00      0.00        18\n",
            "pelecaniformes       0.00      0.00      0.00        13\n",
            "       penguin       0.00      0.00      0.00        13\n",
            "           pig       0.00      0.00      0.00         9\n",
            "        pigeon       0.00      0.00      0.00         9\n",
            "     porcupine       0.00      0.00      0.00        11\n",
            "        possum       0.00      0.00      0.00        13\n",
            "       raccoon       0.00      0.00      0.00        18\n",
            "           rat       0.00      0.00      0.00        18\n",
            "      reindeer       0.00      0.00      0.00        13\n",
            "    rhinoceros       0.00      0.00      0.00        11\n",
            "     sandpiper       0.00      0.00      0.00        13\n",
            "      seahorse       0.00      0.00      0.00        15\n",
            "          seal       0.00      0.00      0.00        14\n",
            "         shark       0.00      0.00      0.00        12\n",
            "         sheep       0.00      0.00      0.00        12\n",
            "         snake       0.00      0.00      0.00        13\n",
            "       sparrow       0.00      0.00      0.00        12\n",
            "         squid       0.00      0.00      0.00        12\n",
            "      squirrel       0.00      0.00      0.00         6\n",
            "      starfish       0.00      0.00      0.00        10\n",
            "          swan       0.00      0.00      0.00         8\n",
            "         tiger       0.00      0.00      0.00        11\n",
            "        turkey       0.00      0.00      0.00        12\n",
            "        turtle       0.00      0.00      0.00        12\n",
            "         whale       0.00      0.00      0.00        10\n",
            "          wolf       0.00      0.00      0.00         9\n",
            "        wombat       0.00      0.00      0.00        13\n",
            "    woodpecker       0.00      0.00      0.00        10\n",
            "         zebra       0.00      0.00      0.00        18\n",
            "\n",
            "      accuracy                           0.01      1080\n",
            "     macro avg       0.00      0.01      0.00      1080\n",
            "  weighted avg       0.00      0.01      0.00      1080\n",
            "\n"
          ]
        },
        {
          "output_type": "stream",
          "name": "stderr",
          "text": [
            "/usr/local/lib/python3.10/dist-packages/sklearn/metrics/_classification.py:1344: UndefinedMetricWarning: Precision and F-score are ill-defined and being set to 0.0 in labels with no predicted samples. Use `zero_division` parameter to control this behavior.\n",
            "  _warn_prf(average, modifier, msg_start, len(result))\n",
            "/usr/local/lib/python3.10/dist-packages/sklearn/metrics/_classification.py:1344: UndefinedMetricWarning: Precision and F-score are ill-defined and being set to 0.0 in labels with no predicted samples. Use `zero_division` parameter to control this behavior.\n",
            "  _warn_prf(average, modifier, msg_start, len(result))\n",
            "/usr/local/lib/python3.10/dist-packages/sklearn/metrics/_classification.py:1344: UndefinedMetricWarning: Precision and F-score are ill-defined and being set to 0.0 in labels with no predicted samples. Use `zero_division` parameter to control this behavior.\n",
            "  _warn_prf(average, modifier, msg_start, len(result))\n"
          ]
        }
      ]
    }
  ]
}