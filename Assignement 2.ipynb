{
  "metadata": {
    "kernelspec": {
      "language": "python",
      "display_name": "Python 3",
      "name": "python3"
    },
    "language_info": {
      "name": "python",
      "version": "3.10.10",
      "mimetype": "text/x-python",
      "codemirror_mode": {
        "name": "ipython",
        "version": 3
      },
      "pygments_lexer": "ipython3",
      "nbconvert_exporter": "python",
      "file_extension": ".py"
    },
    "colab": {
      "provenance": []
    }
  },
  "nbformat_minor": 0,
  "nbformat": 4,
  "cells": [
    {
      "cell_type": "markdown",
      "source": [
        "## Importing the required libraries"
      ],
      "metadata": {
        "id": "_WXJ1TM4pItI"
      }
    },
    {
      "cell_type": "code",
      "source": [
        "from sklearn.model_selection import train_test_split\n",
        "from tensorflow.keras.layers import Input, Dense\n",
        "from tensorflow.keras.optimizers import Adam\n",
        "from tensorflow.keras import Sequential\n",
        "from sklearn.metrics import r2_score\n",
        "from matplotlib import pyplot as plt\n",
        "import pandas as pd\n",
        "import numpy as np"
      ],
      "metadata": {
        "_uuid": "8f2839f25d086af736a60e9eeb907d3b93b6e0e5",
        "_cell_guid": "b1076dfc-b9ad-4769-8c92-a6c4dae69d19",
        "execution": {
          "iopub.status.busy": "2023-05-09T17:53:32.824047Z",
          "iopub.execute_input": "2023-05-09T17:53:32.825782Z",
          "iopub.status.idle": "2023-05-09T17:53:42.315284Z",
          "shell.execute_reply.started": "2023-05-09T17:53:32.825738Z",
          "shell.execute_reply": "2023-05-09T17:53:42.314356Z"
        },
        "trusted": true,
        "id": "7Uocw8TrpItW"
      },
      "execution_count": 5,
      "outputs": []
    },
    {
      "cell_type": "markdown",
      "source": [
        "## Reading the dataset"
      ],
      "metadata": {
        "id": "TaJtDnC-pItb"
      }
    },
    {
      "cell_type": "code",
      "source": [
        "file_url = 'https://drive.google.com/uc?id=1h-Hq2pSGt_Evz2PIoAZH0CjyD1FEiLYX'\n",
        "df = pd.read_csv(file_url)\n",
        "df.drop(['id','Date'], axis=1, inplace=True)\n",
        "df.head()"
      ],
      "metadata": {
        "execution": {
          "iopub.status.busy": "2023-05-09T17:53:42.317258Z",
          "iopub.execute_input": "2023-05-09T17:53:42.317985Z",
          "iopub.status.idle": "2023-05-09T17:53:42.427537Z",
          "shell.execute_reply.started": "2023-05-09T17:53:42.317953Z",
          "shell.execute_reply": "2023-05-09T17:53:42.426417Z"
        },
        "trusted": true,
        "colab": {
          "base_uri": "https://localhost:8080/",
          "height": 352
        },
        "id": "8TSkC9b0pItd",
        "outputId": "e43493a4-f7fd-43a0-a5f7-149c27902575"
      },
      "execution_count": 7,
      "outputs": [
        {
          "output_type": "execute_result",
          "data": {
            "text/plain": [
              "   number of bedrooms  number of bathrooms  living area  lot area  \\\n",
              "0                   5                 2.50         3650      9050   \n",
              "1                   4                 2.50         2920      4000   \n",
              "2                   5                 2.75         2910      9480   \n",
              "3                   4                 2.50         3310     42998   \n",
              "4                   3                 2.00         2710      4500   \n",
              "\n",
              "   number of floors  waterfront present  number of views  \\\n",
              "0               2.0                   0                4   \n",
              "1               1.5                   0                0   \n",
              "2               1.5                   0                0   \n",
              "3               2.0                   0                0   \n",
              "4               1.5                   0                0   \n",
              "\n",
              "   condition of the house  grade of the house  \\\n",
              "0                       5                  10   \n",
              "1                       5                   8   \n",
              "2                       3                   8   \n",
              "3                       3                   9   \n",
              "4                       4                   8   \n",
              "\n",
              "   Area of the house(excluding basement)  ...  Built Year  Renovation Year  \\\n",
              "0                                   3370  ...        1921                0   \n",
              "1                                   1910  ...        1909                0   \n",
              "2                                   2910  ...        1939                0   \n",
              "3                                   3310  ...        2001                0   \n",
              "4                                   1880  ...        1929                0   \n",
              "\n",
              "   Postal Code  Lattitude  Longitude  living_area_renov  lot_area_renov  \\\n",
              "0       122003    52.8645   -114.557               2880            5400   \n",
              "1       122004    52.8878   -114.470               2470            4000   \n",
              "2       122004    52.8852   -114.468               2940            6600   \n",
              "3       122005    52.9532   -114.321               3350           42847   \n",
              "4       122006    52.9047   -114.485               2060            4500   \n",
              "\n",
              "   Number of schools nearby  Distance from the airport    Price  \n",
              "0                         2                         58  2380000  \n",
              "1                         2                         51  1400000  \n",
              "2                         1                         53  1200000  \n",
              "3                         3                         76   838000  \n",
              "4                         1                         51   805000  \n",
              "\n",
              "[5 rows x 21 columns]"
            ],
            "text/html": [
              "\n",
              "  <div id=\"df-0b7b57e1-2499-45ab-aa00-534ab2d3e7a5\">\n",
              "    <div class=\"colab-df-container\">\n",
              "      <div>\n",
              "<style scoped>\n",
              "    .dataframe tbody tr th:only-of-type {\n",
              "        vertical-align: middle;\n",
              "    }\n",
              "\n",
              "    .dataframe tbody tr th {\n",
              "        vertical-align: top;\n",
              "    }\n",
              "\n",
              "    .dataframe thead th {\n",
              "        text-align: right;\n",
              "    }\n",
              "</style>\n",
              "<table border=\"1\" class=\"dataframe\">\n",
              "  <thead>\n",
              "    <tr style=\"text-align: right;\">\n",
              "      <th></th>\n",
              "      <th>number of bedrooms</th>\n",
              "      <th>number of bathrooms</th>\n",
              "      <th>living area</th>\n",
              "      <th>lot area</th>\n",
              "      <th>number of floors</th>\n",
              "      <th>waterfront present</th>\n",
              "      <th>number of views</th>\n",
              "      <th>condition of the house</th>\n",
              "      <th>grade of the house</th>\n",
              "      <th>Area of the house(excluding basement)</th>\n",
              "      <th>...</th>\n",
              "      <th>Built Year</th>\n",
              "      <th>Renovation Year</th>\n",
              "      <th>Postal Code</th>\n",
              "      <th>Lattitude</th>\n",
              "      <th>Longitude</th>\n",
              "      <th>living_area_renov</th>\n",
              "      <th>lot_area_renov</th>\n",
              "      <th>Number of schools nearby</th>\n",
              "      <th>Distance from the airport</th>\n",
              "      <th>Price</th>\n",
              "    </tr>\n",
              "  </thead>\n",
              "  <tbody>\n",
              "    <tr>\n",
              "      <th>0</th>\n",
              "      <td>5</td>\n",
              "      <td>2.50</td>\n",
              "      <td>3650</td>\n",
              "      <td>9050</td>\n",
              "      <td>2.0</td>\n",
              "      <td>0</td>\n",
              "      <td>4</td>\n",
              "      <td>5</td>\n",
              "      <td>10</td>\n",
              "      <td>3370</td>\n",
              "      <td>...</td>\n",
              "      <td>1921</td>\n",
              "      <td>0</td>\n",
              "      <td>122003</td>\n",
              "      <td>52.8645</td>\n",
              "      <td>-114.557</td>\n",
              "      <td>2880</td>\n",
              "      <td>5400</td>\n",
              "      <td>2</td>\n",
              "      <td>58</td>\n",
              "      <td>2380000</td>\n",
              "    </tr>\n",
              "    <tr>\n",
              "      <th>1</th>\n",
              "      <td>4</td>\n",
              "      <td>2.50</td>\n",
              "      <td>2920</td>\n",
              "      <td>4000</td>\n",
              "      <td>1.5</td>\n",
              "      <td>0</td>\n",
              "      <td>0</td>\n",
              "      <td>5</td>\n",
              "      <td>8</td>\n",
              "      <td>1910</td>\n",
              "      <td>...</td>\n",
              "      <td>1909</td>\n",
              "      <td>0</td>\n",
              "      <td>122004</td>\n",
              "      <td>52.8878</td>\n",
              "      <td>-114.470</td>\n",
              "      <td>2470</td>\n",
              "      <td>4000</td>\n",
              "      <td>2</td>\n",
              "      <td>51</td>\n",
              "      <td>1400000</td>\n",
              "    </tr>\n",
              "    <tr>\n",
              "      <th>2</th>\n",
              "      <td>5</td>\n",
              "      <td>2.75</td>\n",
              "      <td>2910</td>\n",
              "      <td>9480</td>\n",
              "      <td>1.5</td>\n",
              "      <td>0</td>\n",
              "      <td>0</td>\n",
              "      <td>3</td>\n",
              "      <td>8</td>\n",
              "      <td>2910</td>\n",
              "      <td>...</td>\n",
              "      <td>1939</td>\n",
              "      <td>0</td>\n",
              "      <td>122004</td>\n",
              "      <td>52.8852</td>\n",
              "      <td>-114.468</td>\n",
              "      <td>2940</td>\n",
              "      <td>6600</td>\n",
              "      <td>1</td>\n",
              "      <td>53</td>\n",
              "      <td>1200000</td>\n",
              "    </tr>\n",
              "    <tr>\n",
              "      <th>3</th>\n",
              "      <td>4</td>\n",
              "      <td>2.50</td>\n",
              "      <td>3310</td>\n",
              "      <td>42998</td>\n",
              "      <td>2.0</td>\n",
              "      <td>0</td>\n",
              "      <td>0</td>\n",
              "      <td>3</td>\n",
              "      <td>9</td>\n",
              "      <td>3310</td>\n",
              "      <td>...</td>\n",
              "      <td>2001</td>\n",
              "      <td>0</td>\n",
              "      <td>122005</td>\n",
              "      <td>52.9532</td>\n",
              "      <td>-114.321</td>\n",
              "      <td>3350</td>\n",
              "      <td>42847</td>\n",
              "      <td>3</td>\n",
              "      <td>76</td>\n",
              "      <td>838000</td>\n",
              "    </tr>\n",
              "    <tr>\n",
              "      <th>4</th>\n",
              "      <td>3</td>\n",
              "      <td>2.00</td>\n",
              "      <td>2710</td>\n",
              "      <td>4500</td>\n",
              "      <td>1.5</td>\n",
              "      <td>0</td>\n",
              "      <td>0</td>\n",
              "      <td>4</td>\n",
              "      <td>8</td>\n",
              "      <td>1880</td>\n",
              "      <td>...</td>\n",
              "      <td>1929</td>\n",
              "      <td>0</td>\n",
              "      <td>122006</td>\n",
              "      <td>52.9047</td>\n",
              "      <td>-114.485</td>\n",
              "      <td>2060</td>\n",
              "      <td>4500</td>\n",
              "      <td>1</td>\n",
              "      <td>51</td>\n",
              "      <td>805000</td>\n",
              "    </tr>\n",
              "  </tbody>\n",
              "</table>\n",
              "<p>5 rows × 21 columns</p>\n",
              "</div>\n",
              "      <button class=\"colab-df-convert\" onclick=\"convertToInteractive('df-0b7b57e1-2499-45ab-aa00-534ab2d3e7a5')\"\n",
              "              title=\"Convert this dataframe to an interactive table.\"\n",
              "              style=\"display:none;\">\n",
              "        \n",
              "  <svg xmlns=\"http://www.w3.org/2000/svg\" height=\"24px\"viewBox=\"0 0 24 24\"\n",
              "       width=\"24px\">\n",
              "    <path d=\"M0 0h24v24H0V0z\" fill=\"none\"/>\n",
              "    <path d=\"M18.56 5.44l.94 2.06.94-2.06 2.06-.94-2.06-.94-.94-2.06-.94 2.06-2.06.94zm-11 1L8.5 8.5l.94-2.06 2.06-.94-2.06-.94L8.5 2.5l-.94 2.06-2.06.94zm10 10l.94 2.06.94-2.06 2.06-.94-2.06-.94-.94-2.06-.94 2.06-2.06.94z\"/><path d=\"M17.41 7.96l-1.37-1.37c-.4-.4-.92-.59-1.43-.59-.52 0-1.04.2-1.43.59L10.3 9.45l-7.72 7.72c-.78.78-.78 2.05 0 2.83L4 21.41c.39.39.9.59 1.41.59.51 0 1.02-.2 1.41-.59l7.78-7.78 2.81-2.81c.8-.78.8-2.07 0-2.86zM5.41 20L4 18.59l7.72-7.72 1.47 1.35L5.41 20z\"/>\n",
              "  </svg>\n",
              "      </button>\n",
              "      \n",
              "  <style>\n",
              "    .colab-df-container {\n",
              "      display:flex;\n",
              "      flex-wrap:wrap;\n",
              "      gap: 12px;\n",
              "    }\n",
              "\n",
              "    .colab-df-convert {\n",
              "      background-color: #E8F0FE;\n",
              "      border: none;\n",
              "      border-radius: 50%;\n",
              "      cursor: pointer;\n",
              "      display: none;\n",
              "      fill: #1967D2;\n",
              "      height: 32px;\n",
              "      padding: 0 0 0 0;\n",
              "      width: 32px;\n",
              "    }\n",
              "\n",
              "    .colab-df-convert:hover {\n",
              "      background-color: #E2EBFA;\n",
              "      box-shadow: 0px 1px 2px rgba(60, 64, 67, 0.3), 0px 1px 3px 1px rgba(60, 64, 67, 0.15);\n",
              "      fill: #174EA6;\n",
              "    }\n",
              "\n",
              "    [theme=dark] .colab-df-convert {\n",
              "      background-color: #3B4455;\n",
              "      fill: #D2E3FC;\n",
              "    }\n",
              "\n",
              "    [theme=dark] .colab-df-convert:hover {\n",
              "      background-color: #434B5C;\n",
              "      box-shadow: 0px 1px 3px 1px rgba(0, 0, 0, 0.15);\n",
              "      filter: drop-shadow(0px 1px 2px rgba(0, 0, 0, 0.3));\n",
              "      fill: #FFFFFF;\n",
              "    }\n",
              "  </style>\n",
              "\n",
              "      <script>\n",
              "        const buttonEl =\n",
              "          document.querySelector('#df-0b7b57e1-2499-45ab-aa00-534ab2d3e7a5 button.colab-df-convert');\n",
              "        buttonEl.style.display =\n",
              "          google.colab.kernel.accessAllowed ? 'block' : 'none';\n",
              "\n",
              "        async function convertToInteractive(key) {\n",
              "          const element = document.querySelector('#df-0b7b57e1-2499-45ab-aa00-534ab2d3e7a5');\n",
              "          const dataTable =\n",
              "            await google.colab.kernel.invokeFunction('convertToInteractive',\n",
              "                                                     [key], {});\n",
              "          if (!dataTable) return;\n",
              "\n",
              "          const docLinkHtml = 'Like what you see? Visit the ' +\n",
              "            '<a target=\"_blank\" href=https://colab.research.google.com/notebooks/data_table.ipynb>data table notebook</a>'\n",
              "            + ' to learn more about interactive tables.';\n",
              "          element.innerHTML = '';\n",
              "          dataTable['output_type'] = 'display_data';\n",
              "          await google.colab.output.renderOutput(dataTable, element);\n",
              "          const docLink = document.createElement('div');\n",
              "          docLink.innerHTML = docLinkHtml;\n",
              "          element.appendChild(docLink);\n",
              "        }\n",
              "      </script>\n",
              "    </div>\n",
              "  </div>\n",
              "  "
            ]
          },
          "metadata": {},
          "execution_count": 7
        }
      ]
    },
    {
      "cell_type": "markdown",
      "source": [
        "### The inference from the dataset is as follows,\n",
        "* There are 21 features in the given dataset.\n",
        "* The price column is the only column which depend on the rest of the 20 columns."
      ],
      "metadata": {
        "id": "2-a4KRTopIte"
      }
    },
    {
      "cell_type": "markdown",
      "source": [
        "## Getting the info of the dataframe"
      ],
      "metadata": {
        "id": "EzT3mRtxpIti"
      }
    },
    {
      "cell_type": "code",
      "source": [
        "df.info()"
      ],
      "metadata": {
        "execution": {
          "iopub.status.busy": "2023-05-09T17:53:42.428822Z",
          "iopub.execute_input": "2023-05-09T17:53:42.429116Z",
          "iopub.status.idle": "2023-05-09T17:53:42.447212Z",
          "shell.execute_reply.started": "2023-05-09T17:53:42.429092Z",
          "shell.execute_reply": "2023-05-09T17:53:42.446160Z"
        },
        "trusted": true,
        "colab": {
          "base_uri": "https://localhost:8080/"
        },
        "id": "2XLELv4MpItl",
        "outputId": "997c4545-1c67-4a63-eaab-8426f7ca977f"
      },
      "execution_count": 8,
      "outputs": [
        {
          "output_type": "stream",
          "name": "stdout",
          "text": [
            "<class 'pandas.core.frame.DataFrame'>\n",
            "RangeIndex: 14620 entries, 0 to 14619\n",
            "Data columns (total 21 columns):\n",
            " #   Column                                 Non-Null Count  Dtype  \n",
            "---  ------                                 --------------  -----  \n",
            " 0   number of bedrooms                     14620 non-null  int64  \n",
            " 1   number of bathrooms                    14620 non-null  float64\n",
            " 2   living area                            14620 non-null  int64  \n",
            " 3   lot area                               14620 non-null  int64  \n",
            " 4   number of floors                       14620 non-null  float64\n",
            " 5   waterfront present                     14620 non-null  int64  \n",
            " 6   number of views                        14620 non-null  int64  \n",
            " 7   condition of the house                 14620 non-null  int64  \n",
            " 8   grade of the house                     14620 non-null  int64  \n",
            " 9   Area of the house(excluding basement)  14620 non-null  int64  \n",
            " 10  Area of the basement                   14620 non-null  int64  \n",
            " 11  Built Year                             14620 non-null  int64  \n",
            " 12  Renovation Year                        14620 non-null  int64  \n",
            " 13  Postal Code                            14620 non-null  int64  \n",
            " 14  Lattitude                              14620 non-null  float64\n",
            " 15  Longitude                              14620 non-null  float64\n",
            " 16  living_area_renov                      14620 non-null  int64  \n",
            " 17  lot_area_renov                         14620 non-null  int64  \n",
            " 18  Number of schools nearby               14620 non-null  int64  \n",
            " 19  Distance from the airport              14620 non-null  int64  \n",
            " 20  Price                                  14620 non-null  int64  \n",
            "dtypes: float64(4), int64(17)\n",
            "memory usage: 2.3 MB\n"
          ]
        }
      ]
    },
    {
      "cell_type": "markdown",
      "source": [
        "### The inferrence from the above cell are discussed below,\n",
        "* Only four columns \"number of bathrooms\", \"number of floors\", \"Lattitude\" and \"Longitude\" are float datatype.\n",
        "* Rest of the columns have only int64 datatype."
      ],
      "metadata": {
        "id": "R4eoHH5OpItn"
      }
    },
    {
      "cell_type": "markdown",
      "source": [
        "## Checking the NaN values from the dataframe"
      ],
      "metadata": {
        "id": "qkee1Hj5pIto"
      }
    },
    {
      "cell_type": "code",
      "source": [
        "df.isna().sum()"
      ],
      "metadata": {
        "execution": {
          "iopub.status.busy": "2023-05-09T17:53:42.449569Z",
          "iopub.execute_input": "2023-05-09T17:53:42.450440Z",
          "iopub.status.idle": "2023-05-09T17:53:42.459385Z",
          "shell.execute_reply.started": "2023-05-09T17:53:42.450384Z",
          "shell.execute_reply": "2023-05-09T17:53:42.458372Z"
        },
        "trusted": true,
        "colab": {
          "base_uri": "https://localhost:8080/"
        },
        "id": "FV3GhR3WpItq",
        "outputId": "ed975eed-78f2-43a6-8d61-10827fef8652"
      },
      "execution_count": 9,
      "outputs": [
        {
          "output_type": "execute_result",
          "data": {
            "text/plain": [
              "number of bedrooms                       0\n",
              "number of bathrooms                      0\n",
              "living area                              0\n",
              "lot area                                 0\n",
              "number of floors                         0\n",
              "waterfront present                       0\n",
              "number of views                          0\n",
              "condition of the house                   0\n",
              "grade of the house                       0\n",
              "Area of the house(excluding basement)    0\n",
              "Area of the basement                     0\n",
              "Built Year                               0\n",
              "Renovation Year                          0\n",
              "Postal Code                              0\n",
              "Lattitude                                0\n",
              "Longitude                                0\n",
              "living_area_renov                        0\n",
              "lot_area_renov                           0\n",
              "Number of schools nearby                 0\n",
              "Distance from the airport                0\n",
              "Price                                    0\n",
              "dtype: int64"
            ]
          },
          "metadata": {},
          "execution_count": 9
        }
      ]
    },
    {
      "cell_type": "markdown",
      "source": [
        "### From the above cell it is founded that, \n",
        "* There are no NaN values in the given dataset"
      ],
      "metadata": {
        "id": "B8FmQy4mpItr"
      }
    },
    {
      "cell_type": "markdown",
      "source": [
        "## Spliting independent and dependent variables as X and y"
      ],
      "metadata": {
        "id": "NzaTTXIepItt"
      }
    },
    {
      "cell_type": "code",
      "source": [
        "X = df.drop('Price', axis=1)\n",
        "y = df['Price']"
      ],
      "metadata": {
        "execution": {
          "iopub.status.busy": "2023-05-09T17:53:42.461180Z",
          "iopub.execute_input": "2023-05-09T17:53:42.461652Z",
          "iopub.status.idle": "2023-05-09T17:53:42.468215Z",
          "shell.execute_reply.started": "2023-05-09T17:53:42.461614Z",
          "shell.execute_reply": "2023-05-09T17:53:42.467147Z"
        },
        "trusted": true,
        "id": "-YtfZ6pqpItt"
      },
      "execution_count": 10,
      "outputs": []
    },
    {
      "cell_type": "markdown",
      "source": [
        "## Spliting the train test separately"
      ],
      "metadata": {
        "id": "la_DZRI_pItv"
      }
    },
    {
      "cell_type": "code",
      "source": [
        "X_train, X_test, y_train, y_test = train_test_split(X, y, test_size=0.2, random_state=12)"
      ],
      "metadata": {
        "execution": {
          "iopub.status.busy": "2023-05-09T17:53:42.469799Z",
          "iopub.execute_input": "2023-05-09T17:53:42.470108Z",
          "iopub.status.idle": "2023-05-09T17:53:42.482785Z",
          "shell.execute_reply.started": "2023-05-09T17:53:42.470079Z",
          "shell.execute_reply": "2023-05-09T17:53:42.481632Z"
        },
        "trusted": true,
        "id": "JtDpWOarpIt0"
      },
      "execution_count": 11,
      "outputs": []
    },
    {
      "cell_type": "markdown",
      "source": [
        "### Getting the shape of X, y train and test"
      ],
      "metadata": {
        "id": "hw7BEGlPpIt2"
      }
    },
    {
      "cell_type": "code",
      "source": [
        "print(f'\\n shape of X_train - {X_train.shape}\\n')\n",
        "print(f' shape of X_test - {X_test.shape}\\n')\n",
        "print(f' shape of y_train - {y_train.shape}\\n')\n",
        "print(f' shape of y_test - {y_test.shape}\\n')"
      ],
      "metadata": {
        "execution": {
          "iopub.status.busy": "2023-05-09T17:53:42.483921Z",
          "iopub.execute_input": "2023-05-09T17:53:42.486620Z",
          "iopub.status.idle": "2023-05-09T17:53:42.491534Z",
          "shell.execute_reply.started": "2023-05-09T17:53:42.486590Z",
          "shell.execute_reply": "2023-05-09T17:53:42.490631Z"
        },
        "trusted": true,
        "colab": {
          "base_uri": "https://localhost:8080/"
        },
        "id": "Z0YjMU-NpIt3",
        "outputId": "c9c0bf79-6386-4abe-febb-b91919c9d63b"
      },
      "execution_count": 12,
      "outputs": [
        {
          "output_type": "stream",
          "name": "stdout",
          "text": [
            "\n",
            " shape of X_train - (11696, 20)\n",
            "\n",
            " shape of X_test - (2924, 20)\n",
            "\n",
            " shape of y_train - (11696,)\n",
            "\n",
            " shape of y_test - (2924,)\n",
            "\n"
          ]
        }
      ]
    },
    {
      "cell_type": "markdown",
      "source": [
        "---------------------\n",
        "## Model building\n",
        "--------------------"
      ],
      "metadata": {
        "id": "Cy_TPVxGpIt4"
      }
    },
    {
      "cell_type": "code",
      "source": [
        "number_of_features = len(X.columns)\n",
        "\n",
        "model = Sequential()\n",
        "\n",
        "model.add(layer=Input(shape=number_of_features))\n",
        "\n",
        "model.add(layer=Dense(units=32, activation='relu'))\n",
        "\n",
        "model.add(layer=Dense(units=64, activation='relu'))\n",
        "\n",
        "model.add(layer=Dense(units=128, activation='relu'))\n",
        "\n",
        "model.add(layer=Dense(units=256, activation='relu'))\n",
        "\n",
        "model.add(layer=Dense(units=512, activation='relu'))\n",
        "\n",
        "model.add(layer=Dense(units=1024, activation='relu'))\n",
        "\n",
        "model.add(layer=Dense(units=2048, activation='relu'))\n",
        "\n",
        "model.add(layer=Dense(units=256, activation='relu'))\n",
        "\n",
        "model.add(layer=Dense(units=128, activation='relu'))\n",
        "\n",
        "model.add(layer=Dense(units=64, activation='relu'))\n",
        "\n",
        "model.add(layer=Dense(units=32, activation='relu'))\n",
        "\n",
        "model.add(layer=Dense(units=16, activation='relu'))\n",
        "\n",
        "model.add(layer=Dense(units=1, activation='linear'))\n",
        "\n",
        "model.summary()"
      ],
      "metadata": {
        "execution": {
          "iopub.status.busy": "2023-05-09T17:53:42.493127Z",
          "iopub.execute_input": "2023-05-09T17:53:42.493762Z",
          "iopub.status.idle": "2023-05-09T17:53:46.672643Z",
          "shell.execute_reply.started": "2023-05-09T17:53:42.493713Z",
          "shell.execute_reply": "2023-05-09T17:53:46.671793Z"
        },
        "trusted": true,
        "colab": {
          "base_uri": "https://localhost:8080/"
        },
        "id": "791lGV3UpIt5",
        "outputId": "d6446611-519c-4660-ba16-e7343280985c"
      },
      "execution_count": 13,
      "outputs": [
        {
          "output_type": "stream",
          "name": "stdout",
          "text": [
            "Model: \"sequential\"\n",
            "_________________________________________________________________\n",
            " Layer (type)                Output Shape              Param #   \n",
            "=================================================================\n",
            " dense (Dense)               (None, 32)                672       \n",
            "                                                                 \n",
            " dense_1 (Dense)             (None, 64)                2112      \n",
            "                                                                 \n",
            " dense_2 (Dense)             (None, 128)               8320      \n",
            "                                                                 \n",
            " dense_3 (Dense)             (None, 256)               33024     \n",
            "                                                                 \n",
            " dense_4 (Dense)             (None, 512)               131584    \n",
            "                                                                 \n",
            " dense_5 (Dense)             (None, 1024)              525312    \n",
            "                                                                 \n",
            " dense_6 (Dense)             (None, 2048)              2099200   \n",
            "                                                                 \n",
            " dense_7 (Dense)             (None, 256)               524544    \n",
            "                                                                 \n",
            " dense_8 (Dense)             (None, 128)               32896     \n",
            "                                                                 \n",
            " dense_9 (Dense)             (None, 64)                8256      \n",
            "                                                                 \n",
            " dense_10 (Dense)            (None, 32)                2080      \n",
            "                                                                 \n",
            " dense_11 (Dense)            (None, 16)                528       \n",
            "                                                                 \n",
            " dense_12 (Dense)            (None, 1)                 17        \n",
            "                                                                 \n",
            "=================================================================\n",
            "Total params: 3,368,545\n",
            "Trainable params: 3,368,545\n",
            "Non-trainable params: 0\n",
            "_________________________________________________________________\n"
          ]
        }
      ]
    },
    {
      "cell_type": "markdown",
      "source": [
        "### Compiling the model"
      ],
      "metadata": {
        "id": "8ZhJtMFMpIt7"
      }
    },
    {
      "cell_type": "code",
      "source": [
        "model.compile(optimizer='adam', loss='mse', metrics=['mae', 'mape'])"
      ],
      "metadata": {
        "execution": {
          "iopub.status.busy": "2023-05-09T17:53:46.673754Z",
          "iopub.execute_input": "2023-05-09T17:53:46.674097Z",
          "iopub.status.idle": "2023-05-09T17:53:46.699897Z",
          "shell.execute_reply.started": "2023-05-09T17:53:46.674061Z",
          "shell.execute_reply": "2023-05-09T17:53:46.698998Z"
        },
        "trusted": true,
        "id": "KggQoryFpIt9"
      },
      "execution_count": 14,
      "outputs": []
    },
    {
      "cell_type": "markdown",
      "source": [
        "## Model Training"
      ],
      "metadata": {
        "id": "NcWBL-pQpIt_"
      }
    },
    {
      "cell_type": "code",
      "source": [
        "history = model.fit(X_train, y_train, epochs=100)"
      ],
      "metadata": {
        "execution": {
          "iopub.status.busy": "2023-05-09T17:53:46.703092Z",
          "iopub.execute_input": "2023-05-09T17:53:46.703909Z",
          "iopub.status.idle": "2023-05-09T17:58:10.678599Z",
          "shell.execute_reply.started": "2023-05-09T17:53:46.703877Z",
          "shell.execute_reply": "2023-05-09T17:58:10.677644Z"
        },
        "trusted": true,
        "colab": {
          "base_uri": "https://localhost:8080/"
        },
        "id": "uG-Oih8qpIt_",
        "outputId": "2f066ed7-d909-47c5-8dde-64a12aae0c96"
      },
      "execution_count": 15,
      "outputs": [
        {
          "output_type": "stream",
          "name": "stdout",
          "text": [
            "Epoch 1/100\n",
            "366/366 [==============================] - 20s 50ms/step - loss: 126612127744.0000 - mae: 230533.6406 - mape: 50.8182\n",
            "Epoch 2/100\n",
            "366/366 [==============================] - 17s 45ms/step - loss: 87021436928.0000 - mae: 195324.8906 - mape: 41.7377\n",
            "Epoch 3/100\n",
            "366/366 [==============================] - 18s 50ms/step - loss: 67758546944.0000 - mae: 173678.7656 - mape: 36.6546\n",
            "Epoch 4/100\n",
            "366/366 [==============================] - 16s 44ms/step - loss: 66012815360.0000 - mae: 172180.2344 - mape: 36.4249\n",
            "Epoch 5/100\n",
            "366/366 [==============================] - 17s 46ms/step - loss: 61661892608.0000 - mae: 167779.4688 - mape: 35.4244\n",
            "Epoch 6/100\n",
            "366/366 [==============================] - 18s 48ms/step - loss: 59463974912.0000 - mae: 164627.8594 - mape: 34.8502\n",
            "Epoch 7/100\n",
            "366/366 [==============================] - 17s 46ms/step - loss: 62123913216.0000 - mae: 167630.9219 - mape: 35.2615\n",
            "Epoch 8/100\n",
            "366/366 [==============================] - 21s 57ms/step - loss: 61527035904.0000 - mae: 167221.7188 - mape: 35.0491\n",
            "Epoch 9/100\n",
            "366/366 [==============================] - 17s 45ms/step - loss: 58655936512.0000 - mae: 164481.0312 - mape: 34.9136\n",
            "Epoch 10/100\n",
            "366/366 [==============================] - 18s 48ms/step - loss: 62237069312.0000 - mae: 168472.7188 - mape: 35.3988\n",
            "Epoch 11/100\n",
            "366/366 [==============================] - 16s 45ms/step - loss: 60670554112.0000 - mae: 166651.5156 - mape: 35.1738\n",
            "Epoch 12/100\n",
            "366/366 [==============================] - 20s 54ms/step - loss: 64724783104.0000 - mae: 169646.9062 - mape: 35.7368\n",
            "Epoch 13/100\n",
            "366/366 [==============================] - 19s 53ms/step - loss: 61117698048.0000 - mae: 165447.2812 - mape: 34.5639\n",
            "Epoch 14/100\n",
            "366/366 [==============================] - 19s 52ms/step - loss: 57653944320.0000 - mae: 160829.0000 - mape: 33.6911\n",
            "Epoch 15/100\n",
            "366/366 [==============================] - 19s 52ms/step - loss: 56478220288.0000 - mae: 159668.9844 - mape: 33.3380\n",
            "Epoch 16/100\n",
            "366/366 [==============================] - 19s 52ms/step - loss: 56424206336.0000 - mae: 159323.7344 - mape: 33.2073\n",
            "Epoch 17/100\n",
            "366/366 [==============================] - 20s 53ms/step - loss: 55047217152.0000 - mae: 158538.5781 - mape: 33.2755\n",
            "Epoch 18/100\n",
            "366/366 [==============================] - 18s 50ms/step - loss: 57321377792.0000 - mae: 161376.0781 - mape: 33.5763\n",
            "Epoch 19/100\n",
            "366/366 [==============================] - 19s 52ms/step - loss: 54975885312.0000 - mae: 157295.5469 - mape: 32.6714\n",
            "Epoch 20/100\n",
            "366/366 [==============================] - 18s 50ms/step - loss: 52018659328.0000 - mae: 153462.5312 - mape: 32.3017\n",
            "Epoch 21/100\n",
            "366/366 [==============================] - 19s 52ms/step - loss: 53343846400.0000 - mae: 155883.6719 - mape: 32.5791\n",
            "Epoch 22/100\n",
            "366/366 [==============================] - 18s 50ms/step - loss: 56121135104.0000 - mae: 157797.1562 - mape: 32.7628\n",
            "Epoch 23/100\n",
            "366/366 [==============================] - 19s 52ms/step - loss: 56709152768.0000 - mae: 160184.3125 - mape: 33.4007\n",
            "Epoch 24/100\n",
            "366/366 [==============================] - 19s 53ms/step - loss: 54659678208.0000 - mae: 156329.3281 - mape: 32.5590\n",
            "Epoch 25/100\n",
            "366/366 [==============================] - 18s 50ms/step - loss: 54853599232.0000 - mae: 156347.1250 - mape: 32.4697\n",
            "Epoch 26/100\n",
            "366/366 [==============================] - 20s 54ms/step - loss: 53262663680.0000 - mae: 155113.9531 - mape: 32.3562\n",
            "Epoch 27/100\n",
            "366/366 [==============================] - 19s 51ms/step - loss: 53270278144.0000 - mae: 155060.5781 - mape: 32.2411\n",
            "Epoch 28/100\n",
            "366/366 [==============================] - 19s 51ms/step - loss: 55126663168.0000 - mae: 158705.2969 - mape: 33.1464\n",
            "Epoch 29/100\n",
            "366/366 [==============================] - 19s 53ms/step - loss: 52286705664.0000 - mae: 152956.4844 - mape: 32.0002\n",
            "Epoch 30/100\n",
            "366/366 [==============================] - 18s 49ms/step - loss: 52933902336.0000 - mae: 153605.9688 - mape: 32.0554\n",
            "Epoch 31/100\n",
            "366/366 [==============================] - 20s 53ms/step - loss: 54706061312.0000 - mae: 156717.4688 - mape: 32.5752\n",
            "Epoch 32/100\n",
            "366/366 [==============================] - 18s 50ms/step - loss: 53441957888.0000 - mae: 155063.4062 - mape: 32.3839\n",
            "Epoch 33/100\n",
            "366/366 [==============================] - 19s 52ms/step - loss: 55369760768.0000 - mae: 156567.1250 - mape: 32.4806\n",
            "Epoch 34/100\n",
            "366/366 [==============================] - 18s 50ms/step - loss: 53898952704.0000 - mae: 154093.5156 - mape: 31.9608\n",
            "Epoch 35/100\n",
            "366/366 [==============================] - 19s 53ms/step - loss: 53978800128.0000 - mae: 154562.7812 - mape: 32.1283\n",
            "Epoch 36/100\n",
            "366/366 [==============================] - 18s 48ms/step - loss: 52756168704.0000 - mae: 153411.3906 - mape: 31.8722\n",
            "Epoch 37/100\n",
            "366/366 [==============================] - 19s 51ms/step - loss: 55778529280.0000 - mae: 157623.8750 - mape: 32.7722\n",
            "Epoch 38/100\n",
            "366/366 [==============================] - 18s 48ms/step - loss: 52265508864.0000 - mae: 154241.7188 - mape: 32.1373\n",
            "Epoch 39/100\n",
            "366/366 [==============================] - 19s 52ms/step - loss: 54533971968.0000 - mae: 155643.0312 - mape: 32.2537\n",
            "Epoch 40/100\n",
            "366/366 [==============================] - 18s 51ms/step - loss: 52134887424.0000 - mae: 152609.9531 - mape: 31.7128\n",
            "Epoch 41/100\n",
            "366/366 [==============================] - 19s 52ms/step - loss: 50907172864.0000 - mae: 151744.1719 - mape: 31.6222\n",
            "Epoch 42/100\n",
            "366/366 [==============================] - 19s 52ms/step - loss: 52732526592.0000 - mae: 154092.8750 - mape: 31.9870\n",
            "Epoch 43/100\n",
            "366/366 [==============================] - 18s 50ms/step - loss: 52718604288.0000 - mae: 153486.3750 - mape: 31.8473\n",
            "Epoch 44/100\n",
            "366/366 [==============================] - 19s 51ms/step - loss: 52656209920.0000 - mae: 152471.0781 - mape: 31.5249\n",
            "Epoch 45/100\n",
            "366/366 [==============================] - 23s 63ms/step - loss: 51375423488.0000 - mae: 152131.1094 - mape: 31.7107\n",
            "Epoch 46/100\n",
            "366/366 [==============================] - 19s 51ms/step - loss: 50097565696.0000 - mae: 150582.7344 - mape: 31.2591\n",
            "Epoch 47/100\n",
            "366/366 [==============================] - 19s 53ms/step - loss: 51254181888.0000 - mae: 151655.1875 - mape: 31.7350\n",
            "Epoch 48/100\n",
            "366/366 [==============================] - 18s 49ms/step - loss: 52754751488.0000 - mae: 154268.5781 - mape: 32.0362\n",
            "Epoch 49/100\n",
            "366/366 [==============================] - 19s 53ms/step - loss: 52573753344.0000 - mae: 153674.3125 - mape: 31.9589\n",
            "Epoch 50/100\n",
            "366/366 [==============================] - 19s 51ms/step - loss: 51776794624.0000 - mae: 151686.8438 - mape: 31.4510\n",
            "Epoch 51/100\n",
            "366/366 [==============================] - 19s 53ms/step - loss: 51534667776.0000 - mae: 151911.4375 - mape: 31.5818\n",
            "Epoch 52/100\n",
            "366/366 [==============================] - 19s 53ms/step - loss: 50824458240.0000 - mae: 150258.0938 - mape: 31.1597\n",
            "Epoch 53/100\n",
            "366/366 [==============================] - 18s 50ms/step - loss: 50709225472.0000 - mae: 151961.4375 - mape: 31.6225\n",
            "Epoch 54/100\n",
            "366/366 [==============================] - 19s 52ms/step - loss: 52085911552.0000 - mae: 152751.8906 - mape: 31.8069\n",
            "Epoch 55/100\n",
            "366/366 [==============================] - 18s 50ms/step - loss: 50472505344.0000 - mae: 150989.8125 - mape: 31.4448\n",
            "Epoch 56/100\n",
            "366/366 [==============================] - 19s 53ms/step - loss: 50396794880.0000 - mae: 150294.4219 - mape: 31.2008\n",
            "Epoch 57/100\n",
            "366/366 [==============================] - 18s 50ms/step - loss: 51661996032.0000 - mae: 152876.6562 - mape: 31.7751\n",
            "Epoch 58/100\n",
            "366/366 [==============================] - 20s 54ms/step - loss: 50395435008.0000 - mae: 150009.5469 - mape: 31.1971\n",
            "Epoch 59/100\n",
            "366/366 [==============================] - 19s 52ms/step - loss: 51631321088.0000 - mae: 151880.8125 - mape: 31.4718\n",
            "Epoch 60/100\n",
            "366/366 [==============================] - 18s 50ms/step - loss: 52273971200.0000 - mae: 153560.9688 - mape: 32.0091\n",
            "Epoch 61/100\n",
            "366/366 [==============================] - 18s 50ms/step - loss: 49692893184.0000 - mae: 149936.5000 - mape: 31.2433\n",
            "Epoch 62/100\n",
            "366/366 [==============================] - 18s 49ms/step - loss: 52678123520.0000 - mae: 153784.3281 - mape: 31.8691\n",
            "Epoch 63/100\n",
            "366/366 [==============================] - 19s 52ms/step - loss: 51513724928.0000 - mae: 151953.3125 - mape: 31.3709\n",
            "Epoch 64/100\n",
            "366/366 [==============================] - 18s 50ms/step - loss: 50064711680.0000 - mae: 150835.6719 - mape: 31.4693\n",
            "Epoch 65/100\n",
            "366/366 [==============================] - 19s 53ms/step - loss: 50222792704.0000 - mae: 150032.3906 - mape: 31.0541\n",
            "Epoch 66/100\n",
            "366/366 [==============================] - 19s 51ms/step - loss: 50296487936.0000 - mae: 150207.4062 - mape: 31.3533\n",
            "Epoch 67/100\n",
            "366/366 [==============================] - 19s 52ms/step - loss: 51172999168.0000 - mae: 151337.5000 - mape: 31.4800\n",
            "Epoch 68/100\n",
            "366/366 [==============================] - 19s 53ms/step - loss: 50974810112.0000 - mae: 151247.2188 - mape: 31.5948\n",
            "Epoch 69/100\n",
            "366/366 [==============================] - 19s 51ms/step - loss: 51992788992.0000 - mae: 151779.0469 - mape: 31.4862\n",
            "Epoch 70/100\n",
            "366/366 [==============================] - 19s 52ms/step - loss: 50657472512.0000 - mae: 150351.0312 - mape: 31.3857\n",
            "Epoch 71/100\n",
            "366/366 [==============================] - 19s 51ms/step - loss: 48634572800.0000 - mae: 147487.0312 - mape: 30.6614\n",
            "Epoch 72/100\n",
            "366/366 [==============================] - 20s 55ms/step - loss: 48952295424.0000 - mae: 148530.4688 - mape: 30.7019\n",
            "Epoch 73/100\n",
            "366/366 [==============================] - 18s 50ms/step - loss: 49606676480.0000 - mae: 149278.1250 - mape: 31.1623\n",
            "Epoch 74/100\n",
            "366/366 [==============================] - 19s 52ms/step - loss: 49964429312.0000 - mae: 149627.4219 - mape: 31.0734\n",
            "Epoch 75/100\n",
            "366/366 [==============================] - 19s 52ms/step - loss: 48514867200.0000 - mae: 147310.3750 - mape: 30.6902\n",
            "Epoch 76/100\n",
            "366/366 [==============================] - 19s 50ms/step - loss: 50568761344.0000 - mae: 151633.5938 - mape: 31.6269\n",
            "Epoch 77/100\n",
            "366/366 [==============================] - 19s 52ms/step - loss: 48644640768.0000 - mae: 147995.1094 - mape: 30.7927\n",
            "Epoch 78/100\n",
            "366/366 [==============================] - 18s 50ms/step - loss: 51491352576.0000 - mae: 151503.7500 - mape: 31.4822\n",
            "Epoch 79/100\n",
            "366/366 [==============================] - 19s 51ms/step - loss: 50230394880.0000 - mae: 150387.8125 - mape: 31.1427\n",
            "Epoch 80/100\n",
            "366/366 [==============================] - 19s 51ms/step - loss: 49795796992.0000 - mae: 150148.9062 - mape: 31.1206\n",
            "Epoch 81/100\n",
            "366/366 [==============================] - 19s 52ms/step - loss: 49107443712.0000 - mae: 147458.7969 - mape: 30.5781\n",
            "Epoch 82/100\n",
            "366/366 [==============================] - 19s 52ms/step - loss: 48438632448.0000 - mae: 147951.6250 - mape: 30.8424\n",
            "Epoch 83/100\n",
            "366/366 [==============================] - 19s 51ms/step - loss: 49475870720.0000 - mae: 148364.7656 - mape: 30.9181\n",
            "Epoch 84/100\n",
            "366/366 [==============================] - 18s 50ms/step - loss: 49990295552.0000 - mae: 149801.1562 - mape: 31.1732\n",
            "Epoch 85/100\n",
            "366/366 [==============================] - 19s 53ms/step - loss: 48638779392.0000 - mae: 148662.0938 - mape: 30.9496\n",
            "Epoch 86/100\n",
            "366/366 [==============================] - 19s 53ms/step - loss: 48929419264.0000 - mae: 148620.1094 - mape: 30.9399\n",
            "Epoch 87/100\n",
            "366/366 [==============================] - 19s 51ms/step - loss: 48499585024.0000 - mae: 147789.7656 - mape: 30.8015\n",
            "Epoch 88/100\n",
            "366/366 [==============================] - 19s 52ms/step - loss: 48793399296.0000 - mae: 148015.2500 - mape: 30.8005\n",
            "Epoch 89/100\n",
            "366/366 [==============================] - 19s 51ms/step - loss: 49222852608.0000 - mae: 148598.0156 - mape: 30.9697\n",
            "Epoch 90/100\n",
            "366/366 [==============================] - 18s 50ms/step - loss: 48534552576.0000 - mae: 147189.4844 - mape: 30.6348\n",
            "Epoch 91/100\n",
            "366/366 [==============================] - 19s 52ms/step - loss: 50547175424.0000 - mae: 151329.3281 - mape: 31.4016\n",
            "Epoch 92/100\n",
            "366/366 [==============================] - 19s 51ms/step - loss: 47545131008.0000 - mae: 146571.4375 - mape: 30.6231\n",
            "Epoch 93/100\n",
            "366/366 [==============================] - 19s 51ms/step - loss: 49050738688.0000 - mae: 148743.5781 - mape: 31.0662\n",
            "Epoch 94/100\n",
            "366/366 [==============================] - 19s 52ms/step - loss: 48044138496.0000 - mae: 148073.7031 - mape: 30.8469\n",
            "Epoch 95/100\n",
            "366/366 [==============================] - 19s 51ms/step - loss: 49780678656.0000 - mae: 150124.4688 - mape: 31.2549\n",
            "Epoch 96/100\n",
            "366/366 [==============================] - 19s 51ms/step - loss: 48487538688.0000 - mae: 147255.3906 - mape: 30.6632\n",
            "Epoch 97/100\n",
            "366/366 [==============================] - 19s 52ms/step - loss: 49598902272.0000 - mae: 148878.5781 - mape: 30.7565\n",
            "Epoch 98/100\n",
            "366/366 [==============================] - 18s 49ms/step - loss: 48735469568.0000 - mae: 147758.2656 - mape: 30.8054\n",
            "Epoch 99/100\n",
            "366/366 [==============================] - 19s 53ms/step - loss: 48070635520.0000 - mae: 147206.1406 - mape: 30.6783\n",
            "Epoch 100/100\n",
            "366/366 [==============================] - 20s 54ms/step - loss: 48162889728.0000 - mae: 147302.8438 - mape: 30.7336\n"
          ]
        }
      ]
    },
    {
      "cell_type": "markdown",
      "source": [
        "### Prediting the unseen dataset"
      ],
      "metadata": {
        "id": "oe8kgxJipIuC"
      }
    },
    {
      "cell_type": "code",
      "source": [
        "y_pred = model.predict(X_test)"
      ],
      "metadata": {
        "execution": {
          "iopub.status.busy": "2023-05-09T17:58:10.680162Z",
          "iopub.execute_input": "2023-05-09T17:58:10.680534Z",
          "iopub.status.idle": "2023-05-09T17:58:11.198595Z",
          "shell.execute_reply.started": "2023-05-09T17:58:10.680498Z",
          "shell.execute_reply": "2023-05-09T17:58:11.197739Z"
        },
        "trusted": true,
        "colab": {
          "base_uri": "https://localhost:8080/"
        },
        "id": "a_euPJdzpIuD",
        "outputId": "7a45fc5d-ea9f-4816-b606-4b8ecf77ba68"
      },
      "execution_count": 16,
      "outputs": [
        {
          "output_type": "stream",
          "name": "stdout",
          "text": [
            "92/92 [==============================] - 1s 8ms/step\n"
          ]
        }
      ]
    },
    {
      "cell_type": "code",
      "source": [
        "y_pred"
      ],
      "metadata": {
        "execution": {
          "iopub.status.busy": "2023-05-09T17:58:11.200027Z",
          "iopub.execute_input": "2023-05-09T17:58:11.200341Z",
          "iopub.status.idle": "2023-05-09T17:58:11.207607Z",
          "shell.execute_reply.started": "2023-05-09T17:58:11.200310Z",
          "shell.execute_reply": "2023-05-09T17:58:11.206368Z"
        },
        "trusted": true,
        "colab": {
          "base_uri": "https://localhost:8080/"
        },
        "id": "oE_uAMhfpIuE",
        "outputId": "1063a209-1bfc-44b8-aa02-f330b7f3560e"
      },
      "execution_count": 17,
      "outputs": [
        {
          "output_type": "execute_result",
          "data": {
            "text/plain": [
              "array([[359911.5 ],\n",
              "       [402973.5 ],\n",
              "       [309876.7 ],\n",
              "       ...,\n",
              "       [366236.47],\n",
              "       [309689.53],\n",
              "       [543781.06]], dtype=float32)"
            ]
          },
          "metadata": {},
          "execution_count": 17
        }
      ]
    },
    {
      "cell_type": "code",
      "source": [
        "y_test"
      ],
      "metadata": {
        "execution": {
          "iopub.status.busy": "2023-05-09T17:58:11.209120Z",
          "iopub.execute_input": "2023-05-09T17:58:11.209956Z",
          "iopub.status.idle": "2023-05-09T17:58:11.223021Z",
          "shell.execute_reply.started": "2023-05-09T17:58:11.209920Z",
          "shell.execute_reply": "2023-05-09T17:58:11.221252Z"
        },
        "trusted": true,
        "colab": {
          "base_uri": "https://localhost:8080/"
        },
        "id": "-reIDewopIuG",
        "outputId": "8616fc8d-c3f8-4bd8-b9ea-829f92a256c4"
      },
      "execution_count": 18,
      "outputs": [
        {
          "output_type": "execute_result",
          "data": {
            "text/plain": [
              "12149    640000\n",
              "13581    650000\n",
              "11595    325000\n",
              "2769     373000\n",
              "7393     355000\n",
              "          ...  \n",
              "7362     497000\n",
              "11132    400000\n",
              "142      366750\n",
              "1405     276000\n",
              "6184     569000\n",
              "Name: Price, Length: 2924, dtype: int64"
            ]
          },
          "metadata": {},
          "execution_count": 18
        }
      ]
    },
    {
      "cell_type": "markdown",
      "source": [
        "## Visual representation of the acutual value vs the predicted value"
      ],
      "metadata": {
        "id": "WXxEokAspIuH"
      }
    },
    {
      "cell_type": "code",
      "source": [
        "plt.scatter(y_test, y_pred, c=y_pred)\n",
        "plt.show()"
      ],
      "metadata": {
        "execution": {
          "iopub.status.busy": "2023-05-09T17:58:11.225105Z",
          "iopub.execute_input": "2023-05-09T17:58:11.225648Z",
          "iopub.status.idle": "2023-05-09T17:58:11.527245Z",
          "shell.execute_reply.started": "2023-05-09T17:58:11.225611Z",
          "shell.execute_reply": "2023-05-09T17:58:11.526287Z"
        },
        "trusted": true,
        "colab": {
          "base_uri": "https://localhost:8080/",
          "height": 463
        },
        "id": "243HnN-cpIuH",
        "outputId": "04975325-72c0-48e0-9ed2-da28b46fdd1e"
      },
      "execution_count": 19,
      "outputs": [
        {
          "output_type": "display_data",
          "data": {
            "text/plain": [
              "<Figure size 640x480 with 1 Axes>"
            ],
            "image/png": "[encoded data removed]"
          },
          "metadata": {}
        }
      ]
    },
    {
      "cell_type": "code",
      "source": [
        "pd.DataFrame({'Actual Value':y_test.values.flatten(), 'Predicted Value':y_pred.flatten()})"
      ],
      "metadata": {
        "execution": {
          "iopub.status.busy": "2023-05-09T17:58:11.528557Z",
          "iopub.execute_input": "2023-05-09T17:58:11.530332Z",
          "iopub.status.idle": "2023-05-09T17:58:11.543195Z",
          "shell.execute_reply.started": "2023-05-09T17:58:11.530297Z",
          "shell.execute_reply": "2023-05-09T17:58:11.541911Z"
        },
        "trusted": true,
        "colab": {
          "base_uri": "https://localhost:8080/",
          "height": 424
        },
        "id": "o1eB0tLypIuI",
        "outputId": "a9913c57-067c-414b-b2d5-851287c33c4d"
      },
      "execution_count": 20,
      "outputs": [
        {
          "output_type": "execute_result",
          "data": {
            "text/plain": [
              "      Actual Value  Predicted Value\n",
              "0           640000     359911.50000\n",
              "1           650000     402973.50000\n",
              "2           325000     309876.68750\n",
              "3           373000     430707.25000\n",
              "4           355000     527060.00000\n",
              "...            ...              ...\n",
              "2919        497000     548435.56250\n",
              "2920        400000     360352.93750\n",
              "2921        366750     366236.46875\n",
              "2922        276000     309689.53125\n",
              "2923        569000     543781.06250\n",
              "\n",
              "[2924 rows x 2 columns]"
            ],
            "text/html": [
              "\n",
              "  <div id=\"df-7bceab9a-8b8a-4613-bb83-c544bbb5f1b0\">\n",
              "    <div class=\"colab-df-container\">\n",
              "      <div>\n",
              "<style scoped>\n",
              "    .dataframe tbody tr th:only-of-type {\n",
              "        vertical-align: middle;\n",
              "    }\n",
              "\n",
              "    .dataframe tbody tr th {\n",
              "        vertical-align: top;\n",
              "    }\n",
              "\n",
              "    .dataframe thead th {\n",
              "        text-align: right;\n",
              "    }\n",
              "</style>\n",
              "<table border=\"1\" class=\"dataframe\">\n",
              "  <thead>\n",
              "    <tr style=\"text-align: right;\">\n",
              "      <th></th>\n",
              "      <th>Actual Value</th>\n",
              "      <th>Predicted Value</th>\n",
              "    </tr>\n",
              "  </thead>\n",
              "  <tbody>\n",
              "    <tr>\n",
              "      <th>0</th>\n",
              "      <td>640000</td>\n",
              "      <td>359911.50000</td>\n",
              "    </tr>\n",
              "    <tr>\n",
              "      <th>1</th>\n",
              "      <td>650000</td>\n",
              "      <td>402973.50000</td>\n",
              "    </tr>\n",
              "    <tr>\n",
              "      <th>2</th>\n",
              "      <td>325000</td>\n",
              "      <td>309876.68750</td>\n",
              "    </tr>\n",
              "    <tr>\n",
              "      <th>3</th>\n",
              "      <td>373000</td>\n",
              "      <td>430707.25000</td>\n",
              "    </tr>\n",
              "    <tr>\n",
              "      <th>4</th>\n",
              "      <td>355000</td>\n",
              "      <td>527060.00000</td>\n",
              "    </tr>\n",
              "    <tr>\n",
              "      <th>...</th>\n",
              "      <td>...</td>\n",
              "      <td>...</td>\n",
              "    </tr>\n",
              "    <tr>\n",
              "      <th>2919</th>\n",
              "      <td>497000</td>\n",
              "      <td>548435.56250</td>\n",
              "    </tr>\n",
              "    <tr>\n",
              "      <th>2920</th>\n",
              "      <td>400000</td>\n",
              "      <td>360352.93750</td>\n",
              "    </tr>\n",
              "    <tr>\n",
              "      <th>2921</th>\n",
              "      <td>366750</td>\n",
              "      <td>366236.46875</td>\n",
              "    </tr>\n",
              "    <tr>\n",
              "      <th>2922</th>\n",
              "      <td>276000</td>\n",
              "      <td>309689.53125</td>\n",
              "    </tr>\n",
              "    <tr>\n",
              "      <th>2923</th>\n",
              "      <td>569000</td>\n",
              "      <td>543781.06250</td>\n",
              "    </tr>\n",
              "  </tbody>\n",
              "</table>\n",
              "<p>2924 rows × 2 columns</p>\n",
              "</div>\n",
              "      <button class=\"colab-df-convert\" onclick=\"convertToInteractive('df-7bceab9a-8b8a-4613-bb83-c544bbb5f1b0')\"\n",
              "              title=\"Convert this dataframe to an interactive table.\"\n",
              "              style=\"display:none;\">\n",
              "        \n",
              "  <svg xmlns=\"http://www.w3.org/2000/svg\" height=\"24px\"viewBox=\"0 0 24 24\"\n",
              "       width=\"24px\">\n",
              "    <path d=\"M0 0h24v24H0V0z\" fill=\"none\"/>\n",
              "    <path d=\"M18.56 5.44l.94 2.06.94-2.06 2.06-.94-2.06-.94-.94-2.06-.94 2.06-2.06.94zm-11 1L8.5 8.5l.94-2.06 2.06-.94-2.06-.94L8.5 2.5l-.94 2.06-2.06.94zm10 10l.94 2.06.94-2.06 2.06-.94-2.06-.94-.94-2.06-.94 2.06-2.06.94z\"/><path d=\"M17.41 7.96l-1.37-1.37c-.4-.4-.92-.59-1.43-.59-.52 0-1.04.2-1.43.59L10.3 9.45l-7.72 7.72c-.78.78-.78 2.05 0 2.83L4 21.41c.39.39.9.59 1.41.59.51 0 1.02-.2 1.41-.59l7.78-7.78 2.81-2.81c.8-.78.8-2.07 0-2.86zM5.41 20L4 18.59l7.72-7.72 1.47 1.35L5.41 20z\"/>\n",
              "  </svg>\n",
              "      </button>\n",
              "      \n",
              "  <style>\n",
              "    .colab-df-container {\n",
              "      display:flex;\n",
              "      flex-wrap:wrap;\n",
              "      gap: 12px;\n",
              "    }\n",
              "\n",
              "    .colab-df-convert {\n",
              "      background-color: #E8F0FE;\n",
              "      border: none;\n",
              "      border-radius: 50%;\n",
              "      cursor: pointer;\n",
              "      display: none;\n",
              "      fill: #1967D2;\n",
              "      height: 32px;\n",
              "      padding: 0 0 0 0;\n",
              "      width: 32px;\n",
              "    }\n",
              "\n",
              "    .colab-df-convert:hover {\n",
              "      background-color: #E2EBFA;\n",
              "      box-shadow: 0px 1px 2px rgba(60, 64, 67, 0.3), 0px 1px 3px 1px rgba(60, 64, 67, 0.15);\n",
              "      fill: #174EA6;\n",
              "    }\n",
              "\n",
              "    [theme=dark] .colab-df-convert {\n",
              "      background-color: #3B4455;\n",
              "      fill: #D2E3FC;\n",
              "    }\n",
              "\n",
              "    [theme=dark] .colab-df-convert:hover {\n",
              "      background-color: #434B5C;\n",
              "      box-shadow: 0px 1px 3px 1px rgba(0, 0, 0, 0.15);\n",
              "      filter: drop-shadow(0px 1px 2px rgba(0, 0, 0, 0.3));\n",
              "      fill: #FFFFFF;\n",
              "    }\n",
              "  </style>\n",
              "\n",
              "      <script>\n",
              "        const buttonEl =\n",
              "          document.querySelector('#df-7bceab9a-8b8a-4613-bb83-c544bbb5f1b0 button.colab-df-convert');\n",
              "        buttonEl.style.display =\n",
              "          google.colab.kernel.accessAllowed ? 'block' : 'none';\n",
              "\n",
              "        async function convertToInteractive(key) {\n",
              "          const element = document.querySelector('#df-7bceab9a-8b8a-4613-bb83-c544bbb5f1b0');\n",
              "          const dataTable =\n",
              "            await google.colab.kernel.invokeFunction('convertToInteractive',\n",
              "                                                     [key], {});\n",
              "          if (!dataTable) return;\n",
              "\n",
              "          const docLinkHtml = 'Like what you see? Visit the ' +\n",
              "            '<a target=\"_blank\" href=https://colab.research.google.com/notebooks/data_table.ipynb>data table notebook</a>'\n",
              "            + ' to learn more about interactive tables.';\n",
              "          element.innerHTML = '';\n",
              "          dataTable['output_type'] = 'display_data';\n",
              "          await google.colab.output.renderOutput(dataTable, element);\n",
              "          const docLink = document.createElement('div');\n",
              "          docLink.innerHTML = docLinkHtml;\n",
              "          element.appendChild(docLink);\n",
              "        }\n",
              "      </script>\n",
              "    </div>\n",
              "  </div>\n",
              "  "
            ]
          },
          "metadata": {},
          "execution_count": 20
        }
      ]
    },
    {
      "cell_type": "markdown",
      "source": [
        "### The above cell maps the actual value and the predicted values"
      ],
      "metadata": {
        "id": "mn0DspuupIuJ"
      }
    },
    {
      "cell_type": "code",
      "source": [
        "r2_score(y_pred=y_pred, y_true=y_test) * 100"
      ],
      "metadata": {
        "execution": {
          "iopub.status.busy": "2023-05-09T17:58:11.544800Z",
          "iopub.execute_input": "2023-05-09T17:58:11.545213Z",
          "iopub.status.idle": "2023-05-09T17:58:11.557970Z",
          "shell.execute_reply.started": "2023-05-09T17:58:11.545164Z",
          "shell.execute_reply": "2023-05-09T17:58:11.557042Z"
        },
        "trusted": true,
        "colab": {
          "base_uri": "https://localhost:8080/"
        },
        "id": "728SbS5opIuK",
        "outputId": "f6ec0d44-a934-44c6-fdd6-af0931650f1c"
      },
      "execution_count": 21,
      "outputs": [
        {
          "output_type": "execute_result",
          "data": {
            "text/plain": [
              "66.62615462414286"
            ]
          },
          "metadata": {},
          "execution_count": 21
        }
      ]
    },
    {
      "cell_type": "markdown",
      "source": [
        "## Thus the model is trained with ANN and got an accuracy of 66.5%"
      ],
      "metadata": {
        "id": "bHnPYrl6pIuK"
      }
    },
    {
      "cell_type": "code",
      "source": [],
      "metadata": {
        "id": "klFbkCdWpIuL"
      },
      "execution_count": 21,
      "outputs": []
    }
  ]
}